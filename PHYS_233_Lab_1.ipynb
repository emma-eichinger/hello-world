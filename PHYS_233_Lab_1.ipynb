{
  "nbformat": 4,
  "nbformat_minor": 0,
  "metadata": {
    "colab": {
      "name": "PHYS 233 Lab 1",
      "version": "0.3.2",
      "provenance": [],
      "collapsed_sections": [],
      "toc_visible": true,
      "include_colab_link": true
    },
    "kernelspec": {
      "name": "python3",
      "display_name": "Python 3"
    }
  },
  "cells": [
    {
      "cell_type": "markdown",
      "metadata": {
        "id": "view-in-github",
        "colab_type": "text"
      },
      "source": [
        "<a href=\"https://colab.research.google.com/github/emma-eichinger/hello-world/blob/master/PHYS_233_Lab_1.ipynb\" target=\"_parent\"><img src=\"https://colab.research.google.com/assets/colab-badge.svg\" alt=\"Open In Colab\"/></a>"
      ]
    },
    {
      "cell_type": "markdown",
      "metadata": {
        "id": "PEYoHqx8rOJr",
        "colab_type": "text"
      },
      "source": [
        "#Physics 233 Lab 1 - The Rolling Sphere and Systematic and Random Error"
      ]
    },
    {
      "cell_type": "markdown",
      "metadata": {
        "id": "YqzSyq2dtDPG",
        "colab_type": "text"
      },
      "source": [
        "#Introduction\n",
        "Physics 233 Lab 1 - The Rolling Sphere and Systematic and Random Error\n",
        "Author: Emma Eichinger\n",
        "\n",
        "Group Members: Emma Eichinger, Christopher Allen, Dylan Fernholz-Hartman \n",
        "\n",
        "For this lab, we set up a wooden ramp at a certain angle and measured the time it took a metal ball to travel a certain distance on the ramp. We did this in order to measure gravitational acceleration and compare it to the true value of g. We used various methods for the experiment until we found one that we deemed most precise and accurate.\n",
        "\n",
        " \n",
        "\n",
        "  \n",
        "  \n",
        "\n",
        "\n",
        "\n",
        "\n",
        "  "
      ]
    },
    {
      "cell_type": "markdown",
      "metadata": {
        "id": "DI2MRach-vqa",
        "colab_type": "text"
      },
      "source": [
        "#Part 1\n",
        "\n",
        "**Method 1** - For the first method, we positioned the ramp at height H = .27m +/- .001m. The length of the ramp was L = 1.21m +/-.001m. The distance the ball traveled was d = 1m +/- .001m. Using the equation the class agreed upon for gravitational acceleration and the mean of the nine values we measured for time t, for method 1, g = 4.878 m/s^2.\n",
        "\n",
        "\n",
        "\n",
        "\n",
        "\n",
        "  **Method 2** - For the second method, we positioned the ramp at a lower height of H = .175m +/- .001m while keeping the other measurements the same. We did this in order to get a better time measurement. For method 2, g = 4.724 m/s^2.\n",
        "  \n",
        "  **Method 3** - For the third method, we positioned the ramp at a lower height than method 1, H = .124m +/- .001m. We kept the other measurements the same. For method 3, g = 4.4 m/s^2.\n",
        "  \n",
        "  **Method 4** - For the fourth method, we positioned the ramp at a higher height than method 1, H = .422m +/- .001m, and we changed the releasing technique of the ball. Instead of letting go with the hand, we lifted up a marker instead. For method 4, g = 5.805 m/s^2.\n",
        "  \n",
        "  $$g = ((10d)/(7(H/L)t^2))$$"
      ]
    },
    {
      "cell_type": "markdown",
      "metadata": {
        "id": "wpfn3RmE-m6c",
        "colab_type": "text"
      },
      "source": [
        "#Part 2\n",
        "The value of g calculated for method 1 was way off the true value of g, and as we decreased the ramp height in method 2 and 3, the calculated value of g became even more inaccurate. When we changed the release method in method 4, the calculated value of g got closer to the actual value of g. Below are two tables that display the time measurements for each method as well as the calculation of g for each method. The height and lenth of the ramp and mean time of the ramp are also shown."
      ]
    },
    {
      "cell_type": "markdown",
      "metadata": {
        "id": "bSP5W16glXt9",
        "colab_type": "text"
      },
      "source": [
        "\n",
        "|#| Method 1|Method 2|Method 3|Method 4 \n",
        "|---| --- | --- |---|---|\n",
        "|1|1.18|1.43|1.75|.85\n",
        "|2|1.15|1.46|1.76|.85\n",
        "|3|1.20|1.50|1.81|.78\n",
        "|4|1.15|1.40|1.76|.85\n",
        "|5|1.15|1.46|1.78|.85\n",
        "|6|1.11|1.46|1.78|.88\n",
        "|7|1.13|1.51|1.82|.88\n",
        "|8|1.11|1.38|1.76|.83\n",
        "|9|1.13|1.41|1.82|.81\n",
        "|Mean|1.1456|1.446|1.78|.84\n"
      ]
    },
    {
      "cell_type": "markdown",
      "metadata": {
        "id": "mhirN0oziaYz",
        "colab_type": "text"
      },
      "source": [
        "| Method|Mean Time (s)| Height (m)| Length (m)|Gravitational Acceleration Calculation (m/s^2)| \n",
        "| --- | --- |---|---|---|\n",
        "|Method 1 |1.1456|.27+/-.001|1.21+/-.001|4.878\n",
        "|Method 2 |1.446| .175+/-.001|1.21+/-.001|4.724\n",
        "|Method 3|1.78|.124+/-.001|1.21+/-.001|4.4|\n",
        "Method 4|.84|.422+/-.001|1.21+/-.001|5.805"
      ]
    },
    {
      "cell_type": "code",
      "metadata": {
        "id": "DCuBFSLUGkPJ",
        "colab_type": "code",
        "outputId": "a8f61431-91b1-423b-dd80-25f0f31d5acc",
        "colab": {
          "base_uri": "https://localhost:8080/",
          "height": 34
        }
      },
      "source": [
        "#Method 1\n",
        "d=1 #distance the ball traveled on the ramp\n",
        "t=1.1456 #mean value of time from nine measurements\n",
        "H=.27 #height of the ramp\n",
        "L=1.21 #length of the ramp\n",
        "g=((10 * d)/(7 *(H/L) *t**2)) #equation for gravitational acceleration\n",
        "print(g)"
      ],
      "execution_count": 0,
      "outputs": [
        {
          "output_type": "stream",
          "text": [
            "4.878177022363377\n"
          ],
          "name": "stdout"
        }
      ]
    },
    {
      "cell_type": "code",
      "metadata": {
        "id": "1lb-OTVnMP4z",
        "colab_type": "code",
        "outputId": "5ded4bff-d761-46b0-81b3-3863e8465d0a",
        "colab": {
          "base_uri": "https://localhost:8080/",
          "height": 34
        }
      },
      "source": [
        "#Method 2\n",
        "d=1 #distance the ball traveled on the ramp\n",
        "t=1.446#mean value of time from nine measurements\n",
        "H=.175 #height of the ramp\n",
        "L=1.21 #length of the ramp\n",
        "g=((10 * d)/(7 *(H/L) *t**2)) #equation for gravitational acceleration\n",
        "print(g)"
      ],
      "execution_count": 0,
      "outputs": [
        {
          "output_type": "stream",
          "text": [
            "4.724030530355196\n"
          ],
          "name": "stdout"
        }
      ]
    },
    {
      "cell_type": "code",
      "metadata": {
        "id": "S-3PUw4MNBfp",
        "colab_type": "code",
        "outputId": "29c11999-3b90-46ef-9ce5-873f28964cd4",
        "colab": {
          "base_uri": "https://localhost:8080/",
          "height": 34
        }
      },
      "source": [
        "d=1 #distance the ball traveled on the ramp\n",
        "t=1.78 #mean value of time from nine measurements\n",
        "H=.124 #height of the ramp\n",
        "L=1.21 #length of the ramp\n",
        "g=((10 * d)/(7 *(H/L) *t**2)) #equation for gravitational acceleration\n",
        "print(g)"
      ],
      "execution_count": 0,
      "outputs": [
        {
          "output_type": "stream",
          "text": [
            "4.399726097051704\n"
          ],
          "name": "stdout"
        }
      ]
    },
    {
      "cell_type": "code",
      "metadata": {
        "id": "c1KbyYKTPCkU",
        "colab_type": "code",
        "outputId": "5b2b2f73-cf66-4bff-969b-0a9b8afa9d86",
        "colab": {
          "base_uri": "https://localhost:8080/",
          "height": 34
        }
      },
      "source": [
        "d=1 #distance the ball traveled on the ramp\n",
        "t=.84 #mean value of time from nine measurements\n",
        "H=.422 #height of the ramp\n",
        "L=1.21 #length of the ramp\n",
        "g=((10 * d)/(7 *(H/L) *t**2)) #equation for gravitational acceleration\n",
        "print(g)"
      ],
      "execution_count": 0,
      "outputs": [
        {
          "output_type": "stream",
          "text": [
            "5.805188245462935\n"
          ],
          "name": "stdout"
        }
      ]
    },
    {
      "cell_type": "markdown",
      "metadata": {
        "id": "hHdtvYhTR_45",
        "colab_type": "text"
      },
      "source": [
        "#Part 3\n",
        "For each method, we collected nine time measurements with a stop watch. \n",
        "\n",
        "  Method 1 \n",
        "  \n",
        "  Mean time, t = x1 = 1.146 seconds\n",
        "      \n",
        "  Differences from the mean = 0.0344444444444445,0.004444444444444473,  0.05444444444444452, 0.004444444444444473, 0.004444444444444473, -0.03555555555555534, -0.015555555555555545, -0.03555555555555534, -0.015555555555555545 (all measurements in seconds)\n",
        "  \n",
        "  \n",
        "  Method 2 \n",
        "  \n",
        "  Mean time, t = x2 = 1.446 seconds\n",
        "  \n",
        "  Differences from the mean = -0.015555555555555545, 0.014444444444444482, 0.05444444444444452, -0.04555555555555557, 0.014444444444444482, 0.014444444444444482, 0.06444444444444453, -0.06555555555555559, -0.03555555555555556 (all measurements in seconds)\n",
        " \n",
        " \n",
        " Method 3\n",
        " \n",
        " Mean time, t = x3 = 1.782 seconds\n",
        " \n",
        " Differences from the mean = -0.03222222222222215, -0.022222222222222143, 0.0277777777777779, -0.022222222222222143, -0.0022222222222221255, -0.0022222222222221255, 0.03777777777777791, -0.022222222222222143, 0.03777777777777791\n",
        " \n",
        " Method 4 \n",
        " \n",
        " Mean time, t = x4 = .842 seconds\n",
        " \n",
        " Differences from the mean = 0.007777777777777772, 0.007777777777777772, -0.06222222222222218, 0.007777777777777772, 0.007777777777777772, 0.0377777777777778, 0.0377777777777778, -0.012222222222222245, -0.03222222222222215"
      ]
    },
    {
      "cell_type": "markdown",
      "metadata": {
        "id": "zPA9F0_OpAek",
        "colab_type": "text"
      },
      "source": [
        "\n",
        "|Method|Mean (s) |Variance (Differences from the mean) (s)| \n",
        "|---| --- | --- |\n",
        "|Method 1|1.146|.0009\n",
        "|Method 2|1.446|.00195\n",
        "|Method 3|1.782|.00077\n",
        "|Method 4|.842|.00102\n",
        "|"
      ]
    },
    {
      "cell_type": "code",
      "metadata": {
        "id": "JyXillPeS05B",
        "colab_type": "code",
        "outputId": "a5bb7965-f4cb-4690-90cb-0c9661d60f9c",
        "colab": {
          "base_uri": "https://localhost:8080/",
          "height": 108
        }
      },
      "source": [
        "import statistics\n",
        "#Method 1\n",
        "\n",
        "method1time_list = [1.18, 1.15, 1.2, 1.15, 1.15, 1.11, 1.13, 1.11, 1.13]#List of nine measurements\n",
        "x1 = statistics.mean(method1time_list)\n",
        "differences_mean_list = [(1.18-x1),(1.15-x1),(1.2-x1),(1.15-x1),(1.15-x1),(1.11-x1),(1.13-x1),(1.11-x1),(1.13-x1)]\n",
        "v1 = statistics.variance(method1time_list)\n",
        "print(v1)\n",
        "print(x1)\n",
        "print(differences_mean_list)"
      ],
      "execution_count": 2,
      "outputs": [
        {
          "output_type": "stream",
          "text": [
            "0.0009027777777777754\n",
            "1.1455555555555554\n",
            "[0.0344444444444445, 0.004444444444444473, 0.05444444444444452, 0.004444444444444473, 0.004444444444444473, -0.03555555555555534, -0.015555555555555545, -0.03555555555555534, -0.015555555555555545]\n"
          ],
          "name": "stdout"
        }
      ]
    },
    {
      "cell_type": "code",
      "metadata": {
        "id": "HGCP472ZWx9m",
        "colab_type": "code",
        "outputId": "bab5ace8-ea0c-4d21-cb99-f4a86668bc5b",
        "colab": {
          "base_uri": "https://localhost:8080/",
          "height": 108
        }
      },
      "source": [
        "import statistics\n",
        "#Method 2\n",
        "\n",
        "method2time_list = [1.43, 1.46, 1.5, 1.4, 1.46, 1.46, 1.51, 1.38, 1.41]\n",
        "x2 = statistics.mean(method2time_list)\n",
        "differences_mean_list2 = [(1.43-x2),(1.46-x2),(1.5-x2),(1.4-x2),(1.46-x2),(1.46-x2),(1.51-x2),(1.38-x2),(1.41-x2)]\n",
        "v2 = statistics.variance(method2time_list)\n",
        "print(v2)\n",
        "print(x2)\n",
        "print(differences_mean_list2)"
      ],
      "execution_count": 3,
      "outputs": [
        {
          "output_type": "stream",
          "text": [
            "0.0019527777777777814\n",
            "1.4455555555555555\n",
            "[-0.015555555555555545, 0.014444444444444482, 0.05444444444444452, -0.04555555555555557, 0.014444444444444482, 0.014444444444444482, 0.06444444444444453, -0.06555555555555559, -0.03555555555555556]\n"
          ],
          "name": "stdout"
        }
      ]
    },
    {
      "cell_type": "code",
      "metadata": {
        "id": "ZRj5CUTcYjd7",
        "colab_type": "code",
        "outputId": "d30f3573-03be-43ff-a8d6-a616e60fd142",
        "colab": {
          "base_uri": "https://localhost:8080/",
          "height": 108
        }
      },
      "source": [
        "import statistics\n",
        "#Method 3\n",
        "\n",
        "method3time_list = [1.75, 1.76, 1.81, 1.76, 1.78, 1.78, 1.82, 1.76, 1.82]\n",
        "x3 = statistics.mean(method3time_list)\n",
        "differences_mean_list3 = [(1.75-x3),(1.76-x3),(1.81-x3),(1.76-x3),(1.78-x3),(1.78-x3),(1.82-x3),(1.76-x3),(1.82-x3)]\n",
        "v3 = statistics.variance(method3time_list)\n",
        "print(v3)\n",
        "print(x3)\n",
        "print(differences_mean_list3)"
      ],
      "execution_count": 4,
      "outputs": [
        {
          "output_type": "stream",
          "text": [
            "0.0007694444444444459\n",
            "1.7822222222222222\n",
            "[-0.03222222222222215, -0.022222222222222143, 0.0277777777777779, -0.022222222222222143, -0.0022222222222221255, -0.0022222222222221255, 0.03777777777777791, -0.022222222222222143, 0.03777777777777791]\n"
          ],
          "name": "stdout"
        }
      ]
    },
    {
      "cell_type": "code",
      "metadata": {
        "id": "5qSeI_8YcEMs",
        "colab_type": "code",
        "outputId": "337705b8-5a50-4c4d-da49-5b32bbaba2ca",
        "colab": {
          "base_uri": "https://localhost:8080/",
          "height": 108
        }
      },
      "source": [
        "import statistics\n",
        "#Method 4\n",
        "\n",
        "method4time_list = [.85,.85,.78,.85,.85,.88,.88,.83,.81]\n",
        "x4 = statistics.mean(method4time_list)\n",
        "differences_mean_list4 = [(.85-x4),(.85-x4),(.78-x4),(.85-x4),(.85-x4),(.88-x4),(.88-x4),(.83-x4),(.81-x4)]\n",
        "v4 = statistics.variance(method4time_list)\n",
        "print(v4)\n",
        "print(x4)\n",
        "print(differences_mean_list4)"
      ],
      "execution_count": 5,
      "outputs": [
        {
          "output_type": "stream",
          "text": [
            "0.0010194444444444437\n",
            "0.8422222222222222\n",
            "[0.007777777777777772, 0.007777777777777772, -0.06222222222222218, 0.007777777777777772, 0.007777777777777772, 0.0377777777777778, 0.0377777777777778, -0.012222222222222245, -0.03222222222222215]\n"
          ],
          "name": "stdout"
        }
      ]
    },
    {
      "cell_type": "markdown",
      "metadata": {
        "id": "9wTmW9PJc_F6",
        "colab_type": "text"
      },
      "source": [
        "#Part 4\n",
        "To combine the differeneces from the mean for each of the methods, use standard deviation. This will measure the spread of each of the data sets for each of the methods.\n",
        "\n",
        "Method 1 Measure of spread (standard deviation in seconds) = .03 seconds\n",
        "\n",
        "Method 2 Measure of spread (standard deviation in seconds) = .044 seconds\n",
        "\n",
        "Method 3 Measure of spread (standard deviation in seconds) = .0277 seconds\n",
        "\n",
        "Method 4 Measure of spread (standard deviation in seconds) = .032 seconds\n",
        "\n"
      ]
    },
    {
      "cell_type": "markdown",
      "metadata": {
        "id": "SSp3a9uLsrYf",
        "colab_type": "text"
      },
      "source": [
        "\n",
        "|Method|Standard Deviation (s) | \n",
        "|---| ---  |\n",
        "|Method |1.03\n",
        "|Method 2|.044|\n",
        "|Method 3|.0277|\n",
        "|Method 4|.032|"
      ]
    },
    {
      "cell_type": "code",
      "metadata": {
        "id": "1nTWFNerdPYV",
        "colab_type": "code",
        "outputId": "c6f3b228-8576-4b16-f10d-825cca232ac6",
        "colab": {
          "base_uri": "https://localhost:8080/",
          "height": 34
        }
      },
      "source": [
        "import statistics \n",
        "#Method 1\n",
        "\n",
        "method1time_list = [1.18, 1.15, 1.2, 1.15, 1.15, 1.11, 1.13, 1.11, 1.13]\n",
        "\n",
        "s1 = statistics.stdev(method1time_list)\n",
        "\n",
        "print(s1)"
      ],
      "execution_count": 0,
      "outputs": [
        {
          "output_type": "stream",
          "text": [
            "0.030046260628866537\n"
          ],
          "name": "stdout"
        }
      ]
    },
    {
      "cell_type": "code",
      "metadata": {
        "id": "SbBeftb-d0W_",
        "colab_type": "code",
        "outputId": "962200ba-2308-4e3c-bd37-8f4d6d64d7c5",
        "colab": {
          "base_uri": "https://localhost:8080/",
          "height": 34
        }
      },
      "source": [
        "import statistics \n",
        "#Method 2\n",
        "\n",
        "method2time_list = [1.43, 1.46, 1.5, 1.4, 1.46, 1.46, 1.51, 1.38, 1.41]\n",
        "\n",
        "s2 = statistics.stdev(method2time_list)\n",
        "\n",
        "print(s2)"
      ],
      "execution_count": 0,
      "outputs": [
        {
          "output_type": "stream",
          "text": [
            "0.04419024527854288\n"
          ],
          "name": "stdout"
        }
      ]
    },
    {
      "cell_type": "code",
      "metadata": {
        "id": "Pf2cwscoemzu",
        "colab_type": "code",
        "outputId": "7eb9130e-78d1-49ca-e335-b178a88b467e",
        "colab": {
          "base_uri": "https://localhost:8080/",
          "height": 34
        }
      },
      "source": [
        "import statistics \n",
        "#Method 3\n",
        "\n",
        "method3time_list = [1.75, 1.76, 1.81, 1.76, 1.78, 1.78, 1.82, 1.76, 1.82]\n",
        "\n",
        "s3 = statistics.stdev(method3time_list)\n",
        "\n",
        "print(s3)"
      ],
      "execution_count": 0,
      "outputs": [
        {
          "output_type": "stream",
          "text": [
            "0.027738861628488754\n"
          ],
          "name": "stdout"
        }
      ]
    },
    {
      "cell_type": "code",
      "metadata": {
        "id": "oJqE6HCFe9Ht",
        "colab_type": "code",
        "outputId": "c0c6af52-d8cc-4fa8-9702-b9e933871f34",
        "colab": {
          "base_uri": "https://localhost:8080/",
          "height": 34
        }
      },
      "source": [
        "import statistics \n",
        "#Method 4\n",
        "\n",
        "method4time_list = [.85,.85,.78,.85,.85,.88,.88,.83,.81]\n",
        "\n",
        "s4 = statistics.stdev(method4time_list)\n",
        "\n",
        "print(s4)"
      ],
      "execution_count": 0,
      "outputs": [
        {
          "output_type": "stream",
          "text": [
            "0.03192874010111335\n"
          ],
          "name": "stdout"
        }
      ]
    },
    {
      "cell_type": "markdown",
      "metadata": {
        "id": "9RaD-d0uflgf",
        "colab_type": "text"
      },
      "source": [
        "#Part 5\n",
        "The expected value of time can be calculated given the height of the ramp H, the length of the ramp L, and the distance the ball travels d.\n",
        "\n",
        "Method 1 - For method 1, H = .27m +/-.001m, L = 1.21m +/- .001m, and d = 1m +/-.001m. By rearranging the equation g = (10/7)d/((H/L)t^2) to solve for time, we can calculate the expected value of time for the true value of g.\n",
        "\n",
        "t1 = .809 seconds\n",
        "\n",
        "From above, the mean time for method 1 was t = x1 = 1.146 seconds\n",
        "\n",
        "Difference from the expected value of the mean = x1 - t1 = 1.146 seconds -.809 seconds = .337 seconds (rounding of the times to three decimal places).\n",
        "\n",
        "\n",
        "Method 2 - For method 2, the height H changes to .175m +/- .001m. \n",
        "\n",
        "t2 = 1.003 seconds\n",
        "\n",
        "Difference from the expected value of the mean = x2 - t2 = 1.446 seconds - 1.003 seconds = .443 seconds.\n",
        "\n",
        "Method 3 - For method 3, height H = .124m +/-.001m.\n",
        "\n",
        "t3 = 1.192 seconds\n",
        "\n",
        "Difference from the expected value of the mean = x3 - t3 = 1.782 seconds - 1.192 seconds = .59 seconds\n",
        "\n",
        "Method 4 - For method 4, height H = .422m +/- .001m.\n",
        "\n",
        "t4 = .646 seconds\n",
        "\n",
        "Difference from the expected value of the mean = x4 - t4 = .842 seconds - .646 seconds = .196 seconds\n"
      ]
    },
    {
      "cell_type": "markdown",
      "metadata": {
        "id": "w5_OsOf8tanq",
        "colab_type": "text"
      },
      "source": [
        "\n",
        "|Method|Expected Value (s) |Mean (s)|Difference Between Expected Value and Mean (s)| \n",
        "|---| --- | --- |---|\n",
        "|Method 1|.809|1.146|.337\n",
        "|Method 2|1.003|1.446|.443\n",
        "|Method 3|1.192|1.782|.59\n",
        "|Method 4|.646|.842|.196\n",
        "|"
      ]
    },
    {
      "cell_type": "code",
      "metadata": {
        "id": "mw_PjUtklw7U",
        "colab_type": "code",
        "outputId": "7d122baa-d8fb-4811-f597-7c4e1adc5acf",
        "colab": {
          "base_uri": "https://localhost:8080/",
          "height": 34
        }
      },
      "source": [
        "import math\n",
        "#Method 1\n",
        "d = 1 #m\n",
        "L=1.21#m\n",
        "H=.27#m\n",
        "g=9.81#m/s**2\n",
        "\n",
        "t1 = math.sqrt((10*d*L)/(7*g*H))\n",
        "print(t1)"
      ],
      "execution_count": 0,
      "outputs": [
        {
          "output_type": "stream",
          "text": [
            "0.8078435826559305\n"
          ],
          "name": "stdout"
        }
      ]
    },
    {
      "cell_type": "code",
      "metadata": {
        "id": "dkiXvPqbnuPt",
        "colab_type": "code",
        "outputId": "b745a6f4-aa38-414a-c65e-23b5e9fad3d0",
        "colab": {
          "base_uri": "https://localhost:8080/",
          "height": 34
        }
      },
      "source": [
        "import math\n",
        "#Method 2 \n",
        "d = 1 #m\n",
        "L=1.21#m\n",
        "H=.175#m\n",
        "g=9.81#m/s**2\n",
        "\n",
        "t2 = math.sqrt((10*d*L)/(7*g*H))\n",
        "print(t2)"
      ],
      "execution_count": 0,
      "outputs": [
        {
          "output_type": "stream",
          "text": [
            "1.0034370607078729\n"
          ],
          "name": "stdout"
        }
      ]
    },
    {
      "cell_type": "code",
      "metadata": {
        "id": "9Ow_Fnojp0Tk",
        "colab_type": "code",
        "outputId": "3e8c2565-4289-464b-9d3a-2f1a938441a0",
        "colab": {
          "base_uri": "https://localhost:8080/",
          "height": 34
        }
      },
      "source": [
        "import math\n",
        "#Method 3\n",
        "d = 1 #m\n",
        "L=1.21#m\n",
        "H=.124#m\n",
        "g=9.81#m/s**2\n",
        "\n",
        "t3 = math.sqrt((10*d*L)/(7*g*H))\n",
        "print(t3)"
      ],
      "execution_count": 0,
      "outputs": [
        {
          "output_type": "stream",
          "text": [
            "1.1920605587505642\n"
          ],
          "name": "stdout"
        }
      ]
    },
    {
      "cell_type": "code",
      "metadata": {
        "id": "lMIxvdU_qhjK",
        "colab_type": "code",
        "outputId": "5f5a5e99-240a-4e52-de13-fde74e201594",
        "colab": {
          "base_uri": "https://localhost:8080/",
          "height": 34
        }
      },
      "source": [
        "import math\n",
        "#Method 4\n",
        "d = 1 #m\n",
        "L=1.21#m\n",
        "H=.422#m\n",
        "g=9.81#m/s**2\n",
        "\n",
        "t4 = math.sqrt((10*d*L)/(7*g*H))\n",
        "print(t4)"
      ],
      "execution_count": 0,
      "outputs": [
        {
          "output_type": "stream",
          "text": [
            "0.6461791429714201\n"
          ],
          "name": "stdout"
        }
      ]
    },
    {
      "cell_type": "markdown",
      "metadata": {
        "id": "2RXka2P3rG4D",
        "colab_type": "text"
      },
      "source": [
        "#Part 6\n",
        "**Precision Rankings From Best to Worst**\n",
        "\n",
        "Referring to the measure of spread of the time data, the method with the smallest spread would be the best in terms of precision. This is because the values varied the least. The method with the smallest spread is method 3. The method with the largest spread is method 2. Therefore, the rankings for precision are \n",
        "\n",
        "\n",
        "1.   Method 3\n",
        "2.   Method 1\n",
        "3.   Method 4\n",
        "4.   Method 2\n",
        "\n",
        "Referring to the difference of the expected value of the time and the mean value of the time for each method, the method with the smallest difference would be the best in terms of accuracy. Method 4 had the smallest difference, so it would be the most accurate. Method 3 had the largest difference, so it would be the least accurate. Therefore, the rankings for accuracy are\n",
        "\n",
        "\n",
        "\n",
        "1.   Method 4\n",
        "2.   Method 1\n",
        "3.   Method 2 \n",
        "4.   Method 3\n",
        "  \n",
        "  Best method: A combination between method 4 (releasing technique) and method 1(height).\n",
        "\n",
        "\n",
        "#Part 7\n",
        "The ranking decisions for precision were based off the measurements of spread of the time data. The smaller the spread of the data, the more similar each measurement is. The larger the spread of the data, the more different each measurement is from the mean. Therefore, the method with the smallest spread is the most precise. In this case, method 3 had the smallest spread and was the most precise. In terms of accuracy, the methods were ranked according to the mean time's difference from the expected value of time (the value of time that would make g = 9.81 m/s^2). The method with the smallest difference is the most accurate because the time is closest to the expected value. In this case, method 4 had the smallest difference and was the most accurate. Accuracy was more important in deciding the best method because it communicates that there is less systematic error in the experiment. The precise method may be consistent, but as our experiment showed, the most precise method gave the least accurate time measurements despite its consistency. For the next part of the experiment, we combined the height of method 1, (the second most precise height) with the releasing technique of method 4, (the most accurate measurement of time).\n",
        "\n",
        "#Part 8 \n",
        "Using the the combination of method 4 and method 1, we took 100 time measurements of the ball going down the ramp. The mean, standard deviation, and uncertainty of the mean of the time data set are calculated below.\n",
        "\n",
        "Mean = x = 1.0997 seconds\n",
        "\n",
        "Standard Deviation = s = .04006 seconds\n",
        "\n",
        "Uncertainty of the mean time = u = .0079 seconds\n",
        "\n",
        "Using the uncertainty formula of g and accounting for propagation of uncertainty in all values:\n",
        "\n",
        "$$\\Delta g =  g\\sqrt(((\\Delta d)/d))^2+(2\\Delta t/t)^2+(\\Delta H/H)^2+(\\Delta L/L)^2))$$\n",
        "\n",
        "$$g\\pm \\Delta g = 5.294m/s^2 \\pm .386m/s^2$$\n",
        "\n",
        "\n",
        "The measurements are not consistent with the theoretical value because our time data for the 100 measurements was off by significant amount. The mean of the time deviated signifcantly from the expected value of time that would give the theoretical value of $$g = 9.81m/s^2$$. From the propagation of uncertainty of g, we can see that the value of time affects the equation more than the other variables, so if the time data is inaccurate, its inaccuracy is amplified in the uncertainty value for g.\n",
        "\n",
        "\n"
      ]
    },
    {
      "cell_type": "code",
      "metadata": {
        "id": "iVjgZ6r4yR59",
        "colab_type": "code",
        "outputId": "0e697e07-1e59-46de-9212-5e91ce04aa5c",
        "colab": {
          "base_uri": "https://localhost:8080/",
          "height": 68
        }
      },
      "source": [
        "import statistics \n",
        "\n",
        "time_onehundred_list = [1.1,1.16,1.11,1.10,1.08,1.1,1.08,1.05,1.15,1.13,1.06,1.13,1.16,1.18,1.03,1.13,1.16,1.16,1.13,1.1,1.11,1.15,1.08,1.09,1.08,1.09,1.08,1.1,1.16,1.1,1.1,1.11,1.09,1.11,1.11,1.11,1.13,1.09,1.16,1.1,1.13,1.1,1.05,1.09,1.05,1.05,1.06,1.13,1.18,1.01,1.03,1.06,1.08,1.15,1.1,1.11,1.1,1.11,1.06,1.09,1.11,1.15,1.13,1.03,1.11,1.09,1.08,1.11,1.11,1.08,1.03,1.15,1.08,1.11,1.11,1.06,1.13,1.13,1,1.09,1.15,1.11,1.15,1.16,1.13,1.05,1.05,1.11,1.11,1.01,1.1,1.09,1.03,1.15,1.1,1.06,1.08,1.01,1.13,1.11]\n",
        "x = statistics.mean(time_onehundred_list)\n",
        "s = statistics.stdev(time_onehundred_list)\n",
        "u = (1.98 *s)/10\n",
        "print(x)\n",
        "print(s)\n",
        "print(u)"
      ],
      "execution_count": 0,
      "outputs": [
        {
          "output_type": "stream",
          "text": [
            "1.0997000000000001\n",
            "0.04006194698163824\n",
            "0.00793226550236437\n"
          ],
          "name": "stdout"
        }
      ]
    },
    {
      "cell_type": "markdown",
      "metadata": {
        "id": "D5wjzxkCOVUG",
        "colab_type": "text"
      },
      "source": [
        "\t\t\t\t\t\t\t\n",
        "#Part 9\n",
        "The histogram below is an area-normalized histogram that shows the probability of the time measurements being one of the eighteen values that we measured, form 1.00 seconds to 1.18 seconds. The x-axis represents time, and the y-axis represents probability. There is also a Gaussian probability density graph on top of the histogram to show how close our measurements are to the actual distribution if we were to take infinite measurements of time. Our histogram matches the Gaussian probability density, but it is rough due to the fact that we only took 100 measurements. As the amount of measurements approaches infinity, the histogram would look more and more like the Gaussian probability density. This distribution is due to random error with the mean value becoming the peak of the graph. There is less of a chance that the time measurement will be values that deviate further and further from the mean. These can be attributed to random error in our experiment. For example, stopping the watch a bit too early or a bit to late for some of the measurements would explain the deviations from the mean value.\t\t\t\t\n",
        "\t\t\t\t\t\t\t\n",
        "\t\t\t\t\t\t\t\n",
        "\n",
        "\n"
      ]
    },
    {
      "cell_type": "code",
      "metadata": {
        "id": "8FVK3G97J1l3",
        "colab_type": "code",
        "outputId": "5c71fdd6-9f64-42cc-fb12-cdb8b3e9818d",
        "colab": {
          "base_uri": "https://localhost:8080/",
          "height": 626
        }
      },
      "source": [
        "from pylab import *\n",
        "from scipy import *\n",
        "import numpy as np\n",
        "import math\n",
        "import statistics\n",
        "\n",
        "t = array([1.1,1.16,1.11,1.10,1.08,1.1,1.08,1.05,1.15,1.13,1.06,1.13,1.16,1.18,1.03,\n",
        "           1.13,1.16,1.16,1.13,1.1,1.11,1.15,1.08,1.09,1.08,1.09,1.08,1.1,1.16,1.1,\n",
        "           1.1,1.11,1.09,1.11,1.11,1.11,1.13,1.09,1.16,1.1,1.13,1.1,1.05,1.09,1.05,\n",
        "           1.05,1.06,1.13,1.18,1.01,1.03,1.06,1.08,1.15,1.1,1.11,1.1,1.11,1.06,1.09,\n",
        "           1.11,1.15,1.13,1.03,1.11,1.09,1.08,1.11,1.11,1.08,1.03,1.15,1.08,1.11,1.11,\n",
        "           1.06,1.13,1.13,1,1.09,1.15,1.11,1.15,1.16,1.13,1.05,1.05,1.11,1.11,1.01,1.1,\n",
        "           1.09,1.03,1.15,1.1,1.06,1.08,1.01,1.13,1.11])\n",
        "bins = linspace(1, 1.18, 19)\n",
        "sigma = statistics.stdev(t)\n",
        "mu= statistics.mean(t)\n",
        "g=((10*1.21)/(7*.27*t**2))\n",
        "def mygaussian(x,mu,sigma):\n",
        "  # mu = average\n",
        "  # sigma = std dev\n",
        "  # x = range of values\n",
        "  A = 1/(sigma*np.sqrt(2*math.pi)) #This is a lie, needs to be read from the sheet. it has np.sqrt() and other messiness\n",
        "  y = A*np.exp( -((x-mu)**2)/(2*sigma**2) )\n",
        "  return(y)\n",
        "\n",
        "figure()\n",
        "events, edges, patches = hist(t, density=True, bins = 18, edgecolor='k')\n",
        "plot(bins, mygaussian(bins,mu,sigma))\n",
        "print(events)\n",
        "print(edges)\n",
        "print(sigma)\n",
        "show()"
      ],
      "execution_count": 43,
      "outputs": [
        {
          "output_type": "stream",
          "text": [
            "[5.29100529 4.7578154  5.19610129 5.29100529 5.48878292 5.29100529\n",
            " 5.48878292 5.8069083  4.84091977 5.01379623 5.69786081 5.01379623\n",
            " 4.7578154  4.59790032 6.03460873 5.01379623 4.7578154  4.7578154\n",
            " 5.01379623 5.29100529 5.19610129 4.84091977 5.48878292 5.38853329\n",
            " 5.48878292 5.38853329 5.48878292 5.29100529 4.7578154  5.29100529\n",
            " 5.29100529 5.19610129 5.38853329 5.19610129 5.19610129 5.19610129\n",
            " 5.01379623 5.38853329 4.7578154  5.29100529 5.01379623 5.29100529\n",
            " 5.8069083  5.38853329 5.8069083  5.8069083  5.69786081 5.01379623\n",
            " 4.59790032 6.27596942 6.03460873 5.69786081 5.48878292 4.84091977\n",
            " 5.29100529 5.19610129 5.29100529 5.19610129 5.69786081 5.38853329\n",
            " 5.19610129 4.84091977 5.01379623 6.03460873 5.19610129 5.38853329\n",
            " 5.48878292 5.19610129 5.19610129 5.48878292 6.03460873 4.84091977\n",
            " 5.48878292 5.19610129 5.19610129 5.69786081 5.01379623 5.01379623\n",
            " 6.4021164  5.38853329 4.84091977 5.19610129 4.84091977 4.7578154\n",
            " 5.01379623 5.8069083  5.8069083  5.19610129 5.19610129 6.27596942\n",
            " 5.29100529 5.38853329 6.03460873 4.84091977 5.29100529 5.69786081\n",
            " 5.48878292 6.27596942 5.01379623 5.19610129]\n",
            "[ 1.  3.  0.  5.  0.  6.  6.  0. 10.  9. 13. 18.  0. 12.  0.  8.  7.  2.]\n",
            "[1.   1.01 1.02 1.03 1.04 1.05 1.06 1.07 1.08 1.09 1.1  1.11 1.12 1.13\n",
            " 1.14 1.15 1.16 1.17 1.18]\n",
            "0.04006194698163824\n"
          ],
          "name": "stdout"
        },
        {
          "output_type": "display_data",
          "data": {
            "image/png": "[encoded data removed]",
            "text/plain": [
              "<Figure size 432x288 with 1 Axes>"
            ]
          },
          "metadata": {
            "tags": []
          }
        }
      ]
    },
    {
      "cell_type": "markdown",
      "metadata": {
        "id": "HcHAl-NiNqlO",
        "colab_type": "text"
      },
      "source": [
        "Below is a histogram that plots the calculated values of gravitational acceleration of the x-axis and the probability of getting each of the values in the bins on the y-axis. It is slightly skewed in the opposite direction from the histogram plotting the times. However, our data fits roughly on the mean calculation for gravitational acceleration as well."
      ]
    },
    {
      "cell_type": "code",
      "metadata": {
        "id": "7kCurDCaK0h1",
        "colab_type": "code",
        "colab": {
          "base_uri": "https://localhost:8080/",
          "height": 422
        },
        "outputId": "d4f4b587-5ae0-4869-e827-dda48a134997"
      },
      "source": [
        "from pylab import *\n",
        "from scipy import *\n",
        "import numpy as np\n",
        "import math\n",
        "import statistics\n",
        "\n",
        "g = array([5.29100529, 4.7578154,  5.19610129, 5.29100529, 5.48878292, 5.29100529,\n",
        "           5.48878292, 5.8069083,  4.84091977, 5.01379623, 5.69786081, 5.01379623,\n",
        "           4.7578154,  4.59790032, 6.03460873, 5.01379623, 4.7578154,  4.7578154,\n",
        "           5.01379623, 5.29100529, 5.19610129, 4.84091977, 5.48878292, 5.38853329,\n",
        "           5.48878292, 5.38853329, 5.48878292, 5.29100529, 4.7578154,  5.29100529,\n",
        "           5.29100529, 5.19610129, 5.38853329, 5.19610129, 5.19610129, 5.19610129,\n",
        "           5.01379623, 5.38853329, 4.7578154,  5.29100529, 5.01379623, 5.29100529,\n",
        "           5.8069083,  5.38853329, 5.8069083,  5.8069083, 5.69786081, 5.01379623,\n",
        "           4.59790032, 6.27596942, 6.03460873, 5.69786081, 5.48878292, 4.84091977,\n",
        "           5.29100529, 5.19610129, 5.29100529, 5.19610129, 5.69786081, 5.38853329,\n",
        "           5.19610129, 4.84091977, 5.01379623, 6.03460873, 5.19610129, 5.38853329,\n",
        "           5.48878292, 5.19610129, 5.19610129, 5.48878292, 6.03460873, 4.84091977,\n",
        "           5.48878292, 5.19610129, 5.19610129, 5.69786081, 5.01379623, 5.01379623,\n",
        "           6.4021164,  5.38853329, 4.84091977, 5.19610129, 4.84091977, 4.7578154,\n",
        "           5.01379623, 5.8069083,  5.8069083,  5.19610129, 5.19610129, 6.27596942,\n",
        "           5.29100529, 5.38853329, 6.03460873, 4.84091977, 5.29100529, 5.69786081,\n",
        "           5.48878292, 6.27596942, 5.01379623, 5.19610129]) #Values of g based on values of t\n",
        "bins = linspace(4.59790032, 6.4021164, 19)\n",
        "sigma = statistics.stdev(g)\n",
        "mu= statistics.mean(g)\n",
        "\n",
        "def mygaussian(x,mu,sigma):\n",
        "  # mu = average\n",
        "  # sigma = std dev\n",
        "  # x = range of values\n",
        "  A = 1/(sigma*np.sqrt(2*math.pi))#This is a lie, needs to be read from the sheet. it has np.sqrt() and other messiness\n",
        "  y = A*np.exp( -((x-mu)**2)/(2*sigma**2) )\n",
        "  return(y)\n",
        "\n",
        "figure()\n",
        "events, edges, patches = hist(g, density=True, bins = 18, edgecolor='k')\n",
        "plot(bins, mygaussian(bins,mu,sigma))\n",
        "print(events)\n",
        "print(edges)\n",
        "print(sigma)\n",
        "print(mu)\n",
        "show()"
      ],
      "execution_count": 1,
      "outputs": [
        {
          "output_type": "stream",
          "text": [
            "[0.19953264 0.69836424 0.79813057 0.         1.19719585 1.79579377\n",
            " 1.29696217 0.89789689 0.99766321 0.         0.59859792 0.\n",
            " 0.59859792 0.         0.4988316  0.         0.29929896 0.09976632]\n",
            "[4.59790032 4.69813455 4.79836877 4.898603   4.99883723 5.09907145\n",
            " 5.19930568 5.29953991 5.39977413 5.50000836 5.60024259 5.70047681\n",
            " 5.80071104 5.90094527 6.00117949 6.10141372 6.20164795 6.30188217\n",
            " 6.4021164 ]\n",
            "0.3966232506675531\n",
            "5.3152262513\n"
          ],
          "name": "stdout"
        },
        {
          "output_type": "display_data",
          "data": {
            "image/png": "[encoded data removed]",
            "text/plain": [
              "<Figure size 432x288 with 1 Axes>"
            ]
          },
          "metadata": {
            "tags": []
          }
        }
      ]
    }
  ]
}